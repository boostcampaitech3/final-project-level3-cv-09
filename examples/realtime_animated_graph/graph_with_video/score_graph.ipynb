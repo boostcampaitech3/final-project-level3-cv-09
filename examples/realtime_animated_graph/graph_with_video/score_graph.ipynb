{
 "cells": [
  {
   "cell_type": "markdown",
   "metadata": {},
   "source": [
    "### Bad.Boys.1995__#01-11-55_01-12-40_label_G-B2-B6.mp4\n",
    "\n",
    "- 45 seconds\n",
    "- 1,080 frames"
   ]
  },
  {
   "cell_type": "code",
   "execution_count": 1,
   "metadata": {},
   "outputs": [],
   "source": [
    "import pandas as pd\n",
    "import matplotlib.pyplot as plt\n",
    "import numpy as np\n",
    "\n",
    "import cv2\n",
    "\n",
    "import os"
   ]
  },
  {
   "cell_type": "code",
   "execution_count": 2,
   "metadata": {},
   "outputs": [
    {
     "data": {
      "text/plain": [
       "'d:\\\\Assignments\\\\부스트캠프\\\\LV3\\\\프로젝트\\\\level3-product-serving-level3-cv-09\\\\examples\\\\realtime_animated_graph\\\\graph_with_video'"
      ]
     },
     "execution_count": 2,
     "metadata": {},
     "output_type": "execute_result"
    }
   ],
   "source": [
    "os.getcwd()"
   ]
  },
  {
   "cell_type": "code",
   "execution_count": 3,
   "metadata": {},
   "outputs": [
    {
     "data": {
      "text/plain": [
       "['graph_with_video.ipynb',\n",
       " 'graph_with_video.py',\n",
       " 'output',\n",
       " 'output-20220520T190255Z-001.zip',\n",
       " 'video_play.py']"
      ]
     },
     "execution_count": 3,
     "metadata": {},
     "output_type": "execute_result"
    }
   ],
   "source": [
    "os.listdir()"
   ]
  },
  {
   "cell_type": "code",
   "execution_count": 4,
   "metadata": {},
   "outputs": [],
   "source": [
    "output_dir = './output/'\n",
    "video_file = 'Bad.Boys.1995__#01-11-55_01-12-40_label_G-B2-B6.mp4'"
   ]
  },
  {
   "cell_type": "code",
   "execution_count": 5,
   "metadata": {},
   "outputs": [],
   "source": [
    "df = pd.read_csv(os.path.join(output_dir, f'{video_file}.csv'))"
   ]
  },
  {
   "cell_type": "code",
   "execution_count": 6,
   "metadata": {},
   "outputs": [
    {
     "data": {
      "text/html": [
       "<div>\n",
       "<style scoped>\n",
       "    .dataframe tbody tr th:only-of-type {\n",
       "        vertical-align: middle;\n",
       "    }\n",
       "\n",
       "    .dataframe tbody tr th {\n",
       "        vertical-align: top;\n",
       "    }\n",
       "\n",
       "    .dataframe thead th {\n",
       "        text-align: right;\n",
       "    }\n",
       "</style>\n",
       "<table border=\"1\" class=\"dataframe\">\n",
       "  <thead>\n",
       "    <tr style=\"text-align: right;\">\n",
       "      <th></th>\n",
       "      <th>Unnamed: 0</th>\n",
       "      <th>video</th>\n",
       "      <th>gt</th>\n",
       "      <th>off</th>\n",
       "      <th>on</th>\n",
       "    </tr>\n",
       "  </thead>\n",
       "  <tbody>\n",
       "    <tr>\n",
       "      <th>0</th>\n",
       "      <td>0</td>\n",
       "      <td>Bad.Boys.1995__#01-11-55_01-12-40_label_G-B2-B...</td>\n",
       "      <td>0.0</td>\n",
       "      <td>0.555484</td>\n",
       "      <td>0.504341</td>\n",
       "    </tr>\n",
       "    <tr>\n",
       "      <th>1</th>\n",
       "      <td>1</td>\n",
       "      <td>Bad.Boys.1995__#01-11-55_01-12-40_label_G-B2-B...</td>\n",
       "      <td>0.0</td>\n",
       "      <td>0.555484</td>\n",
       "      <td>0.504341</td>\n",
       "    </tr>\n",
       "    <tr>\n",
       "      <th>2</th>\n",
       "      <td>2</td>\n",
       "      <td>Bad.Boys.1995__#01-11-55_01-12-40_label_G-B2-B...</td>\n",
       "      <td>0.0</td>\n",
       "      <td>0.555484</td>\n",
       "      <td>0.504341</td>\n",
       "    </tr>\n",
       "    <tr>\n",
       "      <th>3</th>\n",
       "      <td>3</td>\n",
       "      <td>Bad.Boys.1995__#01-11-55_01-12-40_label_G-B2-B...</td>\n",
       "      <td>0.0</td>\n",
       "      <td>0.555484</td>\n",
       "      <td>0.504341</td>\n",
       "    </tr>\n",
       "    <tr>\n",
       "      <th>4</th>\n",
       "      <td>4</td>\n",
       "      <td>Bad.Boys.1995__#01-11-55_01-12-40_label_G-B2-B...</td>\n",
       "      <td>0.0</td>\n",
       "      <td>0.555484</td>\n",
       "      <td>0.504341</td>\n",
       "    </tr>\n",
       "    <tr>\n",
       "      <th>...</th>\n",
       "      <td>...</td>\n",
       "      <td>...</td>\n",
       "      <td>...</td>\n",
       "      <td>...</td>\n",
       "      <td>...</td>\n",
       "    </tr>\n",
       "    <tr>\n",
       "      <th>1067</th>\n",
       "      <td>1067</td>\n",
       "      <td>Bad.Boys.1995__#01-11-55_01-12-40_label_G-B2-B...</td>\n",
       "      <td>0.0</td>\n",
       "      <td>0.032672</td>\n",
       "      <td>0.062636</td>\n",
       "    </tr>\n",
       "    <tr>\n",
       "      <th>1068</th>\n",
       "      <td>1068</td>\n",
       "      <td>Bad.Boys.1995__#01-11-55_01-12-40_label_G-B2-B...</td>\n",
       "      <td>0.0</td>\n",
       "      <td>0.032672</td>\n",
       "      <td>0.062636</td>\n",
       "    </tr>\n",
       "    <tr>\n",
       "      <th>1069</th>\n",
       "      <td>1069</td>\n",
       "      <td>Bad.Boys.1995__#01-11-55_01-12-40_label_G-B2-B...</td>\n",
       "      <td>0.0</td>\n",
       "      <td>0.032672</td>\n",
       "      <td>0.062636</td>\n",
       "    </tr>\n",
       "    <tr>\n",
       "      <th>1070</th>\n",
       "      <td>1070</td>\n",
       "      <td>Bad.Boys.1995__#01-11-55_01-12-40_label_G-B2-B...</td>\n",
       "      <td>0.0</td>\n",
       "      <td>0.032672</td>\n",
       "      <td>0.062636</td>\n",
       "    </tr>\n",
       "    <tr>\n",
       "      <th>1071</th>\n",
       "      <td>1071</td>\n",
       "      <td>Bad.Boys.1995__#01-11-55_01-12-40_label_G-B2-B...</td>\n",
       "      <td>0.0</td>\n",
       "      <td>0.032672</td>\n",
       "      <td>0.062636</td>\n",
       "    </tr>\n",
       "  </tbody>\n",
       "</table>\n",
       "<p>1072 rows × 5 columns</p>\n",
       "</div>"
      ],
      "text/plain": [
       "      Unnamed: 0                                              video   gt  \\\n",
       "0              0  Bad.Boys.1995__#01-11-55_01-12-40_label_G-B2-B...  0.0   \n",
       "1              1  Bad.Boys.1995__#01-11-55_01-12-40_label_G-B2-B...  0.0   \n",
       "2              2  Bad.Boys.1995__#01-11-55_01-12-40_label_G-B2-B...  0.0   \n",
       "3              3  Bad.Boys.1995__#01-11-55_01-12-40_label_G-B2-B...  0.0   \n",
       "4              4  Bad.Boys.1995__#01-11-55_01-12-40_label_G-B2-B...  0.0   \n",
       "...          ...                                                ...  ...   \n",
       "1067        1067  Bad.Boys.1995__#01-11-55_01-12-40_label_G-B2-B...  0.0   \n",
       "1068        1068  Bad.Boys.1995__#01-11-55_01-12-40_label_G-B2-B...  0.0   \n",
       "1069        1069  Bad.Boys.1995__#01-11-55_01-12-40_label_G-B2-B...  0.0   \n",
       "1070        1070  Bad.Boys.1995__#01-11-55_01-12-40_label_G-B2-B...  0.0   \n",
       "1071        1071  Bad.Boys.1995__#01-11-55_01-12-40_label_G-B2-B...  0.0   \n",
       "\n",
       "           off        on  \n",
       "0     0.555484  0.504341  \n",
       "1     0.555484  0.504341  \n",
       "2     0.555484  0.504341  \n",
       "3     0.555484  0.504341  \n",
       "4     0.555484  0.504341  \n",
       "...        ...       ...  \n",
       "1067  0.032672  0.062636  \n",
       "1068  0.032672  0.062636  \n",
       "1069  0.032672  0.062636  \n",
       "1070  0.032672  0.062636  \n",
       "1071  0.032672  0.062636  \n",
       "\n",
       "[1072 rows x 5 columns]"
      ]
     },
     "execution_count": 6,
     "metadata": {},
     "output_type": "execute_result"
    }
   ],
   "source": [
    "df"
   ]
  },
  {
   "cell_type": "markdown",
   "metadata": {},
   "source": [
    "### Graph (frame)"
   ]
  },
  {
   "cell_type": "code",
   "execution_count": 7,
   "metadata": {},
   "outputs": [
    {
     "data": {
      "image/png": "[encoded data removed]",
      "text/plain": [
       "<Figure size 360x360 with 1 Axes>"
      ]
     },
     "metadata": {
      "needs_background": "light"
     },
     "output_type": "display_data"
    }
   ],
   "source": [
    "fig, ax = plt.subplots(1, 1, figsize=(5, 5))\n",
    "\n",
    "x = np.arange(len(df))\n",
    "y_off = df['off']\n",
    "y_on = df['on']\n",
    "\n",
    "ax.plot(x, y_off)\n",
    "ax.plot(x, y_on)\n",
    "\n",
    "plt.show()"
   ]
  },
  {
   "cell_type": "code",
   "execution_count": 8,
   "metadata": {},
   "outputs": [],
   "source": [
    "on_list = df['on']\n",
    "off_list = df['off']\n",
    "\n",
    "x = []\n",
    "time = 1\n",
    "\n",
    "on_score = 0\n",
    "off_score = 0\n",
    "\n",
    "y_on = []\n",
    "y_off = []\n",
    "\n",
    "for frame in range(len(df)):\n",
    "\n",
    "    on_score += on_list[frame]\n",
    "    off_score += off_list[frame]\n",
    "\n",
    "    if frame % 24 == 23:\n",
    "        x.append(time)\n",
    "        time += 1\n",
    "\n",
    "        y_on.append(on_score / 24)\n",
    "        y_off.append(off_score / 24)\n",
    "\n",
    "        on_score = 0\n",
    "        off_score = 0"
   ]
  },
  {
   "cell_type": "markdown",
   "metadata": {},
   "source": [
    "### Graph (seconds interpolation)"
   ]
  },
  {
   "cell_type": "code",
   "execution_count": 9,
   "metadata": {},
   "outputs": [
    {
     "data": {
      "image/png": "[encoded data removed]",
      "text/plain": [
       "<Figure size 360x360 with 1 Axes>"
      ]
     },
     "metadata": {
      "needs_background": "light"
     },
     "output_type": "display_data"
    }
   ],
   "source": [
    "fig, ax = plt.subplots(1, 1, figsize=(5, 5))\n",
    "\n",
    "ax.plot(x, y_off, label='off')\n",
    "ax.plot(x, y_on, label='on')\n",
    "\n",
    "ax.set_xticks(np.arange(0, x[-1], 5))\n",
    "\n",
    "ax.set_xlabel('time (seconds)')\n",
    "ax.set_ylabel('score')\n",
    "\n",
    "ax.legend()\n",
    "\n",
    "plt.show()"
   ]
  },
  {
   "cell_type": "code",
   "execution_count": 10,
   "metadata": {},
   "outputs": [],
   "source": [
    "video_dir = '../../../../videos/'"
   ]
  },
  {
   "cell_type": "code",
   "execution_count": 11,
   "metadata": {},
   "outputs": [],
   "source": [
    "import cv2\n",
    "\n",
    "cap = cv2.VideoCapture(os.path.join(video_dir, video_file))"
   ]
  },
  {
   "cell_type": "code",
   "execution_count": 12,
   "metadata": {},
   "outputs": [],
   "source": [
    "if (cap.isOpened()== False): \n",
    "    print(\"Error opening video  file\")"
   ]
  }
 ],
 "metadata": {
  "interpreter": {
   "hash": "0d0c36a1cad711233291083ec56196f6aa3040f54a3ba5ef9ede691392c977f1"
  },
  "kernelspec": {
   "display_name": "Python 3.8.12 ('torch')",
   "language": "python",
   "name": "python3"
  },
  "language_info": {
   "codemirror_mode": {
    "name": "ipython",
    "version": 3
   },
   "file_extension": ".py",
   "mimetype": "text/x-python",
   "name": "python",
   "nbconvert_exporter": "python",
   "pygments_lexer": "ipython3",
   "version": "3.8.12"
  },
  "orig_nbformat": 4
 },
 "nbformat": 4,
 "nbformat_minor": 2
}
