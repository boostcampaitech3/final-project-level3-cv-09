{
 "cells": [
  {
   "cell_type": "code",
   "execution_count": 1,
   "metadata": {},
   "outputs": [
    {
     "name": "stdout",
     "output_type": "stream",
     "text": [
      "/opt/ml/input/code/project/torchvggish\n"
     ]
    }
   ],
   "source": [
    "%pwd\n",
    "%cd .."
   ]
  },
  {
   "cell_type": "code",
   "execution_count": 2,
   "metadata": {},
   "outputs": [
    {
     "ename": "RuntimeError",
     "evalue": "Error opening '': System error.",
     "output_type": "error",
     "traceback": [
      "\u001b[0;31m---------------------------------------------------------------------------\u001b[0m",
      "\u001b[0;31mRuntimeError\u001b[0m                              Traceback (most recent call last)",
      "\u001b[1;32m/opt/ml/input/code/project/torchvggish/torchvggish/test copy.ipynb Cell 2'\u001b[0m in \u001b[0;36m<cell line: 20>\u001b[0;34m()\u001b[0m\n\u001b[1;32m     <a href='vscode-notebook-cell://ssh-remote%2B115.85.181.141/opt/ml/input/code/project/torchvggish/torchvggish/test%20copy.ipynb#ch0000012vscode-remote?line=17'>18</a>\u001b[0m embedding_model \u001b[39m=\u001b[39m vggish\u001b[39m.\u001b[39mVGGish(urls\u001b[39m=\u001b[39mmodel_urls, postprocess\u001b[39m=\u001b[39m\u001b[39mFalse\u001b[39;00m)\n\u001b[1;32m     <a href='vscode-notebook-cell://ssh-remote%2B115.85.181.141/opt/ml/input/code/project/torchvggish/torchvggish/test%20copy.ipynb#ch0000012vscode-remote?line=18'>19</a>\u001b[0m embedding_model\u001b[39m.\u001b[39meval()\n\u001b[0;32m---> <a href='vscode-notebook-cell://ssh-remote%2B115.85.181.141/opt/ml/input/code/project/torchvggish/torchvggish/test%20copy.ipynb#ch0000012vscode-remote?line=19'>20</a>\u001b[0m embeddings \u001b[39m=\u001b[39m embedding_model\u001b[39m.\u001b[39;49mforward(\u001b[39m\"\u001b[39;49m\u001b[39m\"\u001b[39;49m)\n\u001b[1;32m     <a href='vscode-notebook-cell://ssh-remote%2B115.85.181.141/opt/ml/input/code/project/torchvggish/torchvggish/test%20copy.ipynb#ch0000012vscode-remote?line=21'>22</a>\u001b[0m target \u001b[39m=\u001b[39m embeddings\u001b[39m.\u001b[39mdetach()\u001b[39m.\u001b[39mcpu()\u001b[39m.\u001b[39mnumpy()\n\u001b[1;32m     <a href='vscode-notebook-cell://ssh-remote%2B115.85.181.141/opt/ml/input/code/project/torchvggish/torchvggish/test%20copy.ipynb#ch0000012vscode-remote?line=22'>23</a>\u001b[0m answer \u001b[39m=\u001b[39m np\u001b[39m.\u001b[39mload(answer_file_path)\n",
      "File \u001b[0;32m~/input/code/project/torchvggish/torchvggish/vggish.py:174\u001b[0m, in \u001b[0;36mVGGish.forward\u001b[0;34m(self, x, fs)\u001b[0m\n\u001b[1;32m    <a href='file:///opt/ml/input/code/project/torchvggish/torchvggish/vggish.py?line=171'>172</a>\u001b[0m \u001b[39mdef\u001b[39;00m \u001b[39mforward\u001b[39m(\u001b[39mself\u001b[39m, x, fs\u001b[39m=\u001b[39m\u001b[39mNone\u001b[39;00m):\n\u001b[1;32m    <a href='file:///opt/ml/input/code/project/torchvggish/torchvggish/vggish.py?line=172'>173</a>\u001b[0m     \u001b[39mif\u001b[39;00m \u001b[39mself\u001b[39m\u001b[39m.\u001b[39mpreprocess:\n\u001b[0;32m--> <a href='file:///opt/ml/input/code/project/torchvggish/torchvggish/vggish.py?line=173'>174</a>\u001b[0m         x \u001b[39m=\u001b[39m \u001b[39mself\u001b[39;49m\u001b[39m.\u001b[39;49m_preprocess(x, fs)\n\u001b[1;32m    <a href='file:///opt/ml/input/code/project/torchvggish/torchvggish/vggish.py?line=174'>175</a>\u001b[0m     x \u001b[39m=\u001b[39m x\u001b[39m.\u001b[39mto(\u001b[39mself\u001b[39m\u001b[39m.\u001b[39mdevice)\n\u001b[1;32m    <a href='file:///opt/ml/input/code/project/torchvggish/torchvggish/vggish.py?line=175'>176</a>\u001b[0m     x \u001b[39m=\u001b[39m VGG\u001b[39m.\u001b[39mforward(\u001b[39mself\u001b[39m, x)\n",
      "File \u001b[0;32m~/input/code/project/torchvggish/torchvggish/vggish.py:185\u001b[0m, in \u001b[0;36mVGGish._preprocess\u001b[0;34m(self, x, fs)\u001b[0m\n\u001b[1;32m    <a href='file:///opt/ml/input/code/project/torchvggish/torchvggish/vggish.py?line=182'>183</a>\u001b[0m     x \u001b[39m=\u001b[39m vggish_input\u001b[39m.\u001b[39mwaveform_to_examples(x, fs)\n\u001b[1;32m    <a href='file:///opt/ml/input/code/project/torchvggish/torchvggish/vggish.py?line=183'>184</a>\u001b[0m \u001b[39melif\u001b[39;00m \u001b[39misinstance\u001b[39m(x, \u001b[39mstr\u001b[39m):\n\u001b[0;32m--> <a href='file:///opt/ml/input/code/project/torchvggish/torchvggish/vggish.py?line=184'>185</a>\u001b[0m     x \u001b[39m=\u001b[39m vggish_input\u001b[39m.\u001b[39;49mwavfile_to_examples(x)\n\u001b[1;32m    <a href='file:///opt/ml/input/code/project/torchvggish/torchvggish/vggish.py?line=185'>186</a>\u001b[0m \u001b[39melse\u001b[39;00m:\n\u001b[1;32m    <a href='file:///opt/ml/input/code/project/torchvggish/torchvggish/vggish.py?line=186'>187</a>\u001b[0m     \u001b[39mraise\u001b[39;00m \u001b[39mAttributeError\u001b[39;00m\n",
      "File \u001b[0;32m~/input/code/project/torchvggish/torchvggish/vggish_input.py:96\u001b[0m, in \u001b[0;36mwavfile_to_examples\u001b[0;34m(wav_file, return_tensor)\u001b[0m\n\u001b[1;32m     <a href='file:///opt/ml/input/code/project/torchvggish/torchvggish/vggish_input.py?line=84'>85</a>\u001b[0m \u001b[39mdef\u001b[39;00m \u001b[39mwavfile_to_examples\u001b[39m(wav_file, return_tensor\u001b[39m=\u001b[39m\u001b[39mTrue\u001b[39;00m):\n\u001b[1;32m     <a href='file:///opt/ml/input/code/project/torchvggish/torchvggish/vggish_input.py?line=85'>86</a>\u001b[0m     \u001b[39m\"\"\"Convenience wrapper around waveform_to_examples() for a common WAV format.\u001b[39;00m\n\u001b[1;32m     <a href='file:///opt/ml/input/code/project/torchvggish/torchvggish/vggish_input.py?line=86'>87</a>\u001b[0m \n\u001b[1;32m     <a href='file:///opt/ml/input/code/project/torchvggish/torchvggish/vggish_input.py?line=87'>88</a>\u001b[0m \u001b[39m  Args:\u001b[39;00m\n\u001b[0;32m   (...)\u001b[0m\n\u001b[1;32m     <a href='file:///opt/ml/input/code/project/torchvggish/torchvggish/vggish_input.py?line=93'>94</a>\u001b[0m \u001b[39m    See waveform_to_examples.\u001b[39;00m\n\u001b[1;32m     <a href='file:///opt/ml/input/code/project/torchvggish/torchvggish/vggish_input.py?line=94'>95</a>\u001b[0m \u001b[39m  \"\"\"\u001b[39;00m\n\u001b[0;32m---> <a href='file:///opt/ml/input/code/project/torchvggish/torchvggish/vggish_input.py?line=95'>96</a>\u001b[0m     wav_data, sr \u001b[39m=\u001b[39m sf\u001b[39m.\u001b[39;49mread(wav_file, dtype\u001b[39m=\u001b[39;49m\u001b[39m'\u001b[39;49m\u001b[39mint16\u001b[39;49m\u001b[39m'\u001b[39;49m)\n\u001b[1;32m     <a href='file:///opt/ml/input/code/project/torchvggish/torchvggish/vggish_input.py?line=96'>97</a>\u001b[0m     \u001b[39massert\u001b[39;00m wav_data\u001b[39m.\u001b[39mdtype \u001b[39m==\u001b[39m np\u001b[39m.\u001b[39mint16, \u001b[39m'\u001b[39m\u001b[39mBad sample type: \u001b[39m\u001b[39m%r\u001b[39;00m\u001b[39m'\u001b[39m \u001b[39m%\u001b[39m wav_data\u001b[39m.\u001b[39mdtype\n\u001b[1;32m     <a href='file:///opt/ml/input/code/project/torchvggish/torchvggish/vggish_input.py?line=97'>98</a>\u001b[0m     samples \u001b[39m=\u001b[39m wav_data \u001b[39m/\u001b[39m \u001b[39m32768.0\u001b[39m  \u001b[39m# Convert to [-1.0, +1.0]\u001b[39;00m\n",
      "File \u001b[0;32m/opt/conda/lib/python3.8/site-packages/soundfile.py:256\u001b[0m, in \u001b[0;36mread\u001b[0;34m(file, frames, start, stop, dtype, always_2d, fill_value, out, samplerate, channels, format, subtype, endian, closefd)\u001b[0m\n\u001b[1;32m    <a href='file:///opt/conda/lib/python3.8/site-packages/soundfile.py?line=169'>170</a>\u001b[0m \u001b[39mdef\u001b[39;00m \u001b[39mread\u001b[39m(file, frames\u001b[39m=\u001b[39m\u001b[39m-\u001b[39m\u001b[39m1\u001b[39m, start\u001b[39m=\u001b[39m\u001b[39m0\u001b[39m, stop\u001b[39m=\u001b[39m\u001b[39mNone\u001b[39;00m, dtype\u001b[39m=\u001b[39m\u001b[39m'\u001b[39m\u001b[39mfloat64\u001b[39m\u001b[39m'\u001b[39m, always_2d\u001b[39m=\u001b[39m\u001b[39mFalse\u001b[39;00m,\n\u001b[1;32m    <a href='file:///opt/conda/lib/python3.8/site-packages/soundfile.py?line=170'>171</a>\u001b[0m          fill_value\u001b[39m=\u001b[39m\u001b[39mNone\u001b[39;00m, out\u001b[39m=\u001b[39m\u001b[39mNone\u001b[39;00m, samplerate\u001b[39m=\u001b[39m\u001b[39mNone\u001b[39;00m, channels\u001b[39m=\u001b[39m\u001b[39mNone\u001b[39;00m,\n\u001b[1;32m    <a href='file:///opt/conda/lib/python3.8/site-packages/soundfile.py?line=171'>172</a>\u001b[0m          \u001b[39mformat\u001b[39m\u001b[39m=\u001b[39m\u001b[39mNone\u001b[39;00m, subtype\u001b[39m=\u001b[39m\u001b[39mNone\u001b[39;00m, endian\u001b[39m=\u001b[39m\u001b[39mNone\u001b[39;00m, closefd\u001b[39m=\u001b[39m\u001b[39mTrue\u001b[39;00m):\n\u001b[1;32m    <a href='file:///opt/conda/lib/python3.8/site-packages/soundfile.py?line=172'>173</a>\u001b[0m     \u001b[39m\"\"\"Provide audio data from a sound file as NumPy array.\u001b[39;00m\n\u001b[1;32m    <a href='file:///opt/conda/lib/python3.8/site-packages/soundfile.py?line=173'>174</a>\u001b[0m \n\u001b[1;32m    <a href='file:///opt/conda/lib/python3.8/site-packages/soundfile.py?line=174'>175</a>\u001b[0m \u001b[39m    By default, the whole file is read from the beginning, but the\u001b[39;00m\n\u001b[0;32m   (...)\u001b[0m\n\u001b[1;32m    <a href='file:///opt/conda/lib/python3.8/site-packages/soundfile.py?line=253'>254</a>\u001b[0m \n\u001b[1;32m    <a href='file:///opt/conda/lib/python3.8/site-packages/soundfile.py?line=254'>255</a>\u001b[0m \u001b[39m    \"\"\"\u001b[39;00m\n\u001b[0;32m--> <a href='file:///opt/conda/lib/python3.8/site-packages/soundfile.py?line=255'>256</a>\u001b[0m     \u001b[39mwith\u001b[39;00m SoundFile(file, \u001b[39m'\u001b[39;49m\u001b[39mr\u001b[39;49m\u001b[39m'\u001b[39;49m, samplerate, channels,\n\u001b[1;32m    <a href='file:///opt/conda/lib/python3.8/site-packages/soundfile.py?line=256'>257</a>\u001b[0m                    subtype, endian, \u001b[39mformat\u001b[39;49m, closefd) \u001b[39mas\u001b[39;00m f:\n\u001b[1;32m    <a href='file:///opt/conda/lib/python3.8/site-packages/soundfile.py?line=257'>258</a>\u001b[0m         frames \u001b[39m=\u001b[39m f\u001b[39m.\u001b[39m_prepare_read(start, stop, frames)\n\u001b[1;32m    <a href='file:///opt/conda/lib/python3.8/site-packages/soundfile.py?line=258'>259</a>\u001b[0m         data \u001b[39m=\u001b[39m f\u001b[39m.\u001b[39mread(frames, dtype, always_2d, fill_value, out)\n",
      "File \u001b[0;32m/opt/conda/lib/python3.8/site-packages/soundfile.py:629\u001b[0m, in \u001b[0;36mSoundFile.__init__\u001b[0;34m(self, file, mode, samplerate, channels, subtype, endian, format, closefd)\u001b[0m\n\u001b[1;32m    <a href='file:///opt/conda/lib/python3.8/site-packages/soundfile.py?line=625'>626</a>\u001b[0m \u001b[39mself\u001b[39m\u001b[39m.\u001b[39m_mode \u001b[39m=\u001b[39m mode\n\u001b[1;32m    <a href='file:///opt/conda/lib/python3.8/site-packages/soundfile.py?line=626'>627</a>\u001b[0m \u001b[39mself\u001b[39m\u001b[39m.\u001b[39m_info \u001b[39m=\u001b[39m _create_info_struct(file, mode, samplerate, channels,\n\u001b[1;32m    <a href='file:///opt/conda/lib/python3.8/site-packages/soundfile.py?line=627'>628</a>\u001b[0m                                  \u001b[39mformat\u001b[39m, subtype, endian)\n\u001b[0;32m--> <a href='file:///opt/conda/lib/python3.8/site-packages/soundfile.py?line=628'>629</a>\u001b[0m \u001b[39mself\u001b[39m\u001b[39m.\u001b[39m_file \u001b[39m=\u001b[39m \u001b[39mself\u001b[39;49m\u001b[39m.\u001b[39;49m_open(file, mode_int, closefd)\n\u001b[1;32m    <a href='file:///opt/conda/lib/python3.8/site-packages/soundfile.py?line=629'>630</a>\u001b[0m \u001b[39mif\u001b[39;00m \u001b[39mset\u001b[39m(mode)\u001b[39m.\u001b[39missuperset(\u001b[39m'\u001b[39m\u001b[39mr+\u001b[39m\u001b[39m'\u001b[39m) \u001b[39mand\u001b[39;00m \u001b[39mself\u001b[39m\u001b[39m.\u001b[39mseekable():\n\u001b[1;32m    <a href='file:///opt/conda/lib/python3.8/site-packages/soundfile.py?line=630'>631</a>\u001b[0m     \u001b[39m# Move write position to 0 (like in Python file objects)\u001b[39;00m\n\u001b[1;32m    <a href='file:///opt/conda/lib/python3.8/site-packages/soundfile.py?line=631'>632</a>\u001b[0m     \u001b[39mself\u001b[39m\u001b[39m.\u001b[39mseek(\u001b[39m0\u001b[39m)\n",
      "File \u001b[0;32m/opt/conda/lib/python3.8/site-packages/soundfile.py:1183\u001b[0m, in \u001b[0;36mSoundFile._open\u001b[0;34m(self, file, mode_int, closefd)\u001b[0m\n\u001b[1;32m   <a href='file:///opt/conda/lib/python3.8/site-packages/soundfile.py?line=1180'>1181</a>\u001b[0m \u001b[39melse\u001b[39;00m:\n\u001b[1;32m   <a href='file:///opt/conda/lib/python3.8/site-packages/soundfile.py?line=1181'>1182</a>\u001b[0m     \u001b[39mraise\u001b[39;00m \u001b[39mTypeError\u001b[39;00m(\u001b[39m\"\u001b[39m\u001b[39mInvalid file: \u001b[39m\u001b[39m{0!r}\u001b[39;00m\u001b[39m\"\u001b[39m\u001b[39m.\u001b[39mformat(\u001b[39mself\u001b[39m\u001b[39m.\u001b[39mname))\n\u001b[0;32m-> <a href='file:///opt/conda/lib/python3.8/site-packages/soundfile.py?line=1182'>1183</a>\u001b[0m _error_check(_snd\u001b[39m.\u001b[39;49msf_error(file_ptr),\n\u001b[1;32m   <a href='file:///opt/conda/lib/python3.8/site-packages/soundfile.py?line=1183'>1184</a>\u001b[0m              \u001b[39m\"\u001b[39;49m\u001b[39mError opening \u001b[39;49m\u001b[39m{0!r}\u001b[39;49;00m\u001b[39m: \u001b[39;49m\u001b[39m\"\u001b[39;49m\u001b[39m.\u001b[39;49mformat(\u001b[39mself\u001b[39;49m\u001b[39m.\u001b[39;49mname))\n\u001b[1;32m   <a href='file:///opt/conda/lib/python3.8/site-packages/soundfile.py?line=1184'>1185</a>\u001b[0m \u001b[39mif\u001b[39;00m mode_int \u001b[39m==\u001b[39m _snd\u001b[39m.\u001b[39mSFM_WRITE:\n\u001b[1;32m   <a href='file:///opt/conda/lib/python3.8/site-packages/soundfile.py?line=1185'>1186</a>\u001b[0m     \u001b[39m# Due to a bug in libsndfile version <= 1.0.25, frames != 0\u001b[39;00m\n\u001b[1;32m   <a href='file:///opt/conda/lib/python3.8/site-packages/soundfile.py?line=1186'>1187</a>\u001b[0m     \u001b[39m# when opening a named pipe in SFM_WRITE mode.\u001b[39;00m\n\u001b[1;32m   <a href='file:///opt/conda/lib/python3.8/site-packages/soundfile.py?line=1187'>1188</a>\u001b[0m     \u001b[39m# See http://github.com/erikd/libsndfile/issues/77.\u001b[39;00m\n\u001b[1;32m   <a href='file:///opt/conda/lib/python3.8/site-packages/soundfile.py?line=1188'>1189</a>\u001b[0m     \u001b[39mself\u001b[39m\u001b[39m.\u001b[39m_info\u001b[39m.\u001b[39mframes \u001b[39m=\u001b[39m \u001b[39m0\u001b[39m\n",
      "File \u001b[0;32m/opt/conda/lib/python3.8/site-packages/soundfile.py:1357\u001b[0m, in \u001b[0;36m_error_check\u001b[0;34m(err, prefix)\u001b[0m\n\u001b[1;32m   <a href='file:///opt/conda/lib/python3.8/site-packages/soundfile.py?line=1354'>1355</a>\u001b[0m \u001b[39mif\u001b[39;00m err \u001b[39m!=\u001b[39m \u001b[39m0\u001b[39m:\n\u001b[1;32m   <a href='file:///opt/conda/lib/python3.8/site-packages/soundfile.py?line=1355'>1356</a>\u001b[0m     err_str \u001b[39m=\u001b[39m _snd\u001b[39m.\u001b[39msf_error_number(err)\n\u001b[0;32m-> <a href='file:///opt/conda/lib/python3.8/site-packages/soundfile.py?line=1356'>1357</a>\u001b[0m     \u001b[39mraise\u001b[39;00m \u001b[39mRuntimeError\u001b[39;00m(prefix \u001b[39m+\u001b[39m _ffi\u001b[39m.\u001b[39mstring(err_str)\u001b[39m.\u001b[39mdecode(\u001b[39m'\u001b[39m\u001b[39mutf-8\u001b[39m\u001b[39m'\u001b[39m, \u001b[39m'\u001b[39m\u001b[39mreplace\u001b[39m\u001b[39m'\u001b[39m))\n",
      "\u001b[0;31mRuntimeError\u001b[0m: Error opening '': System error."
     ]
    }
   ],
   "source": [
    "from torchvggish import vggish, vggish_input, vggish_params, mel_features\n",
    "import resampy\n",
    "import torch\n",
    "import soundfile as sf\n",
    "import numpy as np\n",
    "\n",
    "test_file_path = '/opt/ml/input/dataA.Beautiful.Mind.2001__#00-25-20_00-29-20_label_A.wav'\n",
    "\n",
    "answer_file_path = '/opt/ml/input/data/A.Beautiful.Mind.2001__#00-25-20_00-29-20_label_A__vggish.npy'\n",
    "\n",
    "# Initialise model and download weights\n",
    "model_urls = {\n",
    "    'vggish': 'https://github.com/harritaylor/torchvggish/'\n",
    "    'releases/download/v0.1/vggish-10086976.pth',\n",
    "    'pca': 'https://github.com/harritaylor/torchvggish/'\n",
    "    'releases/download/v0.1/vggish_pca_params-970ea276.pth'\n",
    "    }\n",
    "embedding_model = vggish.VGGish(urls=model_urls, postprocess=False)\n",
    "embedding_model.eval()\n",
    "embeddings = embedding_model.forward(test_file_path)\n",
    "\n",
    "target = embeddings.detach().cpu().numpy()\n",
    "answer = np.load(answer_file_path)\n",
    "\n",
    "print(target[0][:10])\n",
    "print(answer[0][:10])\n",
    "print(\"target shape :\",target.shape)\n",
    "print(\"answer shape :\",answer.shape)"
   ]
  }
 ],
 "metadata": {
  "interpreter": {
   "hash": "d4d1e4263499bec80672ea0156c357c1ee493ec2b1c70f0acce89fc37c4a6abe"
  },
  "kernelspec": {
   "display_name": "Python ('level3')",
   "language": "python",
   "name": "python3"
  },
  "language_info": {
   "codemirror_mode": {
    "name": "ipython",
    "version": 3
   },
   "file_extension": ".py",
   "mimetype": "text/x-python",
   "name": "python",
   "nbconvert_exporter": "python",
   "pygments_lexer": "ipython3",
   "version": "3.8.5"
  },
  "orig_nbformat": 4
 },
 "nbformat": 4,
 "nbformat_minor": 2
}
