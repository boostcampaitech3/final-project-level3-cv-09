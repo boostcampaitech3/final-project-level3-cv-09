{
 "cells": [
  {
   "cell_type": "markdown",
   "metadata": {},
   "source": [
    "mp4 to wav"
   ]
  },
  {
   "cell_type": "code",
   "execution_count": 7,
   "metadata": {},
   "outputs": [
    {
     "name": "stdout",
     "output_type": "stream",
     "text": [
      "convert mp4 to wav : /opt/ml/input/data/videos/Cold.Eyes_0-00-04_0-00-13_0-00-20_0-00-31_0-01-02_0-01-04_0-01_21_0-01-24_label_P.mp4\n"
     ]
    },
    {
     "name": "stderr",
     "output_type": "stream",
     "text": [
      "ffmpeg version 3.4.8-0ubuntu0.2 Copyright (c) 2000-2020 the FFmpeg developers\n",
      "  built with gcc 7 (Ubuntu 7.5.0-3ubuntu1~18.04)\n",
      "  configuration: --prefix=/usr --extra-version=0ubuntu0.2 --toolchain=hardened --libdir=/usr/lib/x86_64-linux-gnu --incdir=/usr/include/x86_64-linux-gnu --enable-gpl --disable-stripping --enable-avresample --enable-avisynth --enable-gnutls --enable-ladspa --enable-libass --enable-libbluray --enable-libbs2b --enable-libcaca --enable-libcdio --enable-libflite --enable-libfontconfig --enable-libfreetype --enable-libfribidi --enable-libgme --enable-libgsm --enable-libmp3lame --enable-libmysofa --enable-libopenjpeg --enable-libopenmpt --enable-libopus --enable-libpulse --enable-librubberband --enable-librsvg --enable-libshine --enable-libsnappy --enable-libsoxr --enable-libspeex --enable-libssh --enable-libtheora --enable-libtwolame --enable-libvorbis --enable-libvpx --enable-libwavpack --enable-libwebp --enable-libx265 --enable-libxml2 --enable-libxvid --enable-libzmq --enable-libzvbi --enable-omx --enable-openal --enable-opengl --enable-sdl2 --enable-libdc1394 --enable-libdrm --enable-libiec61883 --enable-chromaprint --enable-frei0r --enable-libopencv --enable-libx264 --enable-shared\n",
      "  libavutil      55. 78.100 / 55. 78.100\n",
      "  libavcodec     57.107.100 / 57.107.100\n",
      "  libavformat    57. 83.100 / 57. 83.100\n",
      "  libavdevice    57. 10.100 / 57. 10.100\n",
      "  libavfilter     6.107.100 /  6.107.100\n",
      "  libavresample   3.  7.  0 /  3.  7.  0\n",
      "  libswscale      4.  8.100 /  4.  8.100\n",
      "  libswresample   2.  9.100 /  2.  9.100\n",
      "  libpostproc    54.  7.100 / 54.  7.100\n",
      "Input #0, mov,mp4,m4a,3gp,3g2,mj2, from '/opt/ml/input/data/videos/Cold.Eyes_0-00-04_0-00-13_0-00-20_0-00-31_0-01-02_0-01-04_0-01_21_0-01-24_label_P.mp4':\n",
      "  Metadata:\n",
      "    major_brand     : isom\n",
      "    minor_version   : 512\n",
      "    compatible_brands: isomiso2avc1mp41\n",
      "    encoder         : Lavf57.25.100\n",
      "  Duration: 00:01:33.00, start: 0.000000, bitrate: 2915 kb/s\n",
      "    Stream #0:0(und): Video: h264 (Constrained Baseline) (avc1 / 0x31637661), yuv420p, 1912x812, 2718 kb/s, 24 fps, 24 tbr, 12288 tbn, 24576 tbc (default)\n",
      "    Metadata:\n",
      "      handler_name    : VideoHandler\n",
      "    Stream #0:1(und): Audio: aac (LC) (mp4a / 0x6134706D), 44100 Hz, stereo, fltp, 192 kb/s (default)\n",
      "    Metadata:\n",
      "      handler_name    : SoundHandler\n",
      "Stream mapping:\n",
      "  Stream #0:1 -> #0:0 (aac (native) -> pcm_s16le (native))\n",
      "Press [q] to stop, [?] for help\n",
      "Output #0, wav, to '/opt/ml/input/data/audios/Cold.Eyes_0-00-04_0-00-13_0-00-20_0-00-31_0-01-02_0-01-04_0-01_21_0-01-24_label_P.wav':\n",
      "  Metadata:\n",
      "    major_brand     : isom\n",
      "    minor_version   : 512\n",
      "    compatible_brands: isomiso2avc1mp41\n",
      "    ISFT            : Lavf57.83.100\n",
      "    Stream #0:0(und): Audio: pcm_s16le ([1][0][0][0] / 0x0001), 16000 Hz, mono, s16, 256 kb/s (default)\n",
      "    Metadata:\n",
      "      handler_name    : SoundHandler\n",
      "      encoder         : Lavc57.107.100 pcm_s16le\n",
      "size=    2906kB time=00:01:32.99 bitrate= 256.0kbits/s speed= 467x    \n",
      "video:0kB audio:2906kB subtitle:0kB other streams:0kB global headers:0kB muxing overhead: 0.002621%\n"
     ]
    }
   ],
   "source": [
    "import os\n",
    "import glob\n",
    "import ntpath\n",
    "import sys\n",
    "\n",
    "def createDirectory(directory):\n",
    "    try:\n",
    "        if not os.path.exists(directory):\n",
    "            os.makedirs(directory)\n",
    "    except OSError:\n",
    "        print(\"Error: Failed to create the directory.\")\n",
    "\n",
    "def convert_mp4_to_avi(file_name, output_directory):\n",
    "    input_name = file_name\n",
    "    output_name = ntpath.basename(file_name)\n",
    "    output = os.path.join(output_directory, output_name.replace('.mp4', '.wav', 1))\n",
    "    cmd = \"ffmpeg -i {} -ab 160K -ac 1 -ar 16000 -vn {}\".format(input_name, output) \n",
    "    return os.popen(cmd)\n",
    "\n",
    "def main():\n",
    "    input_directory = '/opt/ml/input/data/videos'\n",
    "    output_directory = '/opt/ml/input/data/audios'\n",
    "    createDirectory(output_directory)\n",
    "    files = glob.glob(input_directory + '/*.mp4')\n",
    "    for file_name in files:\n",
    "        convert_mp4_to_avi(file_name, output_directory)\n",
    "        print('convert mp4 to wav :', file_name)\n",
    "\n",
    "if __name__ == \"__main__\":\n",
    "   main()\n"
   ]
  },
  {
   "cell_type": "code",
   "execution_count": 1,
   "metadata": {},
   "outputs": [
    {
     "name": "stdout",
     "output_type": "stream",
     "text": [
      "/opt/ml/input/code/project/torchvggish\n"
     ]
    }
   ],
   "source": [
    "%pwd\n",
    "%cd .."
   ]
  },
  {
   "cell_type": "code",
   "execution_count": 5,
   "metadata": {},
   "outputs": [
    {
     "name": "stdout",
     "output_type": "stream",
     "text": [
      "[saved list]\n",
      "/opt/ml/input/data/audio_features/Bad.Boys.1995__#01-33-51_01-34-37_label_B2-0-0.npy\n",
      "/opt/ml/input/data/audio_features/A.Beautiful.Mind.2001__#00-25-20_00-29-20_label_A.npy\n",
      "/opt/ml/input/data/audio_features/Cold.Eyes_0-00-04_0-00-13_0-00-20_0-00-31_0-01-02_0-01-04_0-01_21_0-01-24_label_P.npy\n"
     ]
    }
   ],
   "source": [
    "from torchvggish import vggish\n",
    "import numpy as np\n",
    "import glob\n",
    "\n",
    "# 변환할 오디오 파일 위치 지정\n",
    "audio_path = '/opt/ml/input/data/audios'\n",
    "files = glob.glob(audio_path + '/*.wav')\n",
    "file_name_list = os.listdir(audio_path)\n",
    "\n",
    "# 오디오 피처 저장할 위치 지정\n",
    "feature_save_path = '/opt/ml/input/data/audio_features'\n",
    "\n",
    "# Initialise model and download weights\n",
    "model_urls = {\n",
    "    'vggish': 'https://github.com/harritaylor/torchvggish/'\n",
    "    'releases/download/v0.1/vggish-10086976.pth',\n",
    "    'pca': 'https://github.com/harritaylor/torchvggish/'\n",
    "    'releases/download/v0.1/vggish_pca_params-970ea276.pth'\n",
    "    }\n",
    "embedding_model = vggish.VGGish(urls=model_urls, postprocess=False)\n",
    "embedding_model.eval()\n",
    "\n",
    "print(\"[saved list]\")\n",
    "saved_list = []\n",
    "for audio, audio_name in zip(files, file_name_list):\n",
    "    embeddings = embedding_model.forward(audio)\n",
    "    np.save(os.path.join(feature_save_path, audio_name[:-4]),embeddings.detach().cpu().numpy())\n",
    "    print(os.path.join(feature_save_path, audio_name[:-4])+\".npy\")\n",
    "    saved_list.append(os.path.join(feature_save_path, audio_name[:-4])+\".npy\")"
   ]
  },
  {
   "cell_type": "code",
   "execution_count": 10,
   "metadata": {},
   "outputs": [
    {
     "name": "stdout",
     "output_type": "stream",
     "text": [
      "Bad.Boys.1995__#01-33-51_01-34-37_label_B2-0-0.npy - (69, 128)\n",
      "A.Beautiful.Mind.2001__#00-25-20_00-29-20_label_A.npy - (360, 128)\n",
      "Cold.Eyes_0-00-04_0-00-13_0-00-20_0-00-31_0-01-02_0-01-04_0-01_21_0-01-24_label_P.npy - (139, 128)\n"
     ]
    }
   ],
   "source": [
    "for sample in saved_list:\n",
    "    data = np.load(sample)\n",
    "    print(f'{sample[len(feature_save_path)+1:]} - {data.shape}')"
   ]
  },
  {
   "cell_type": "code",
   "execution_count": null,
   "metadata": {},
   "outputs": [],
   "source": []
  }
 ],
 "metadata": {
  "interpreter": {
   "hash": "d4d1e4263499bec80672ea0156c357c1ee493ec2b1c70f0acce89fc37c4a6abe"
  },
  "kernelspec": {
   "display_name": "Python 3.8.5 ('base')",
   "language": "python",
   "name": "python3"
  },
  "language_info": {
   "codemirror_mode": {
    "name": "ipython",
    "version": 3
   },
   "file_extension": ".py",
   "mimetype": "text/x-python",
   "name": "python",
   "nbconvert_exporter": "python",
   "pygments_lexer": "ipython3",
   "version": "3.8.5"
  },
  "orig_nbformat": 4
 },
 "nbformat": 4,
 "nbformat_minor": 2
}
