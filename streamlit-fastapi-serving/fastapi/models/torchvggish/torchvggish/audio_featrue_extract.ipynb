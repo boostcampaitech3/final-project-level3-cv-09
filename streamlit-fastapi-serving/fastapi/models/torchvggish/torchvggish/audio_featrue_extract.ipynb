{
 "cells": [
  {
   "cell_type": "markdown",
   "metadata": {},
   "source": [
    "mp4 to wav"
   ]
  },
  {
   "cell_type": "code",
   "execution_count": 1,
   "metadata": {},
   "outputs": [],
   "source": [
    "import os\n",
    "import glob\n",
    "import ntpath\n",
    "import sys\n",
    "\n",
    "def createDirectory(directory):\n",
    "    try:\n",
    "        if not os.path.exists(directory):\n",
    "            os.makedirs(directory)\n",
    "    except OSError:\n",
    "        print(\"Error: Failed to create the directory.\")\n",
    "\n",
    "def convert_mp4_to_avi(file_name, output_directory):\n",
    "    input_name = file_name\n",
    "    output_name = ntpath.basename(file_name)\n",
    "    output = os.path.join(output_directory, output_name.replace('.mp4', '.wav', 1))\n",
    "    cmd = \"ffmpeg -i {} -ab 160K -ac 1 -ar 16000 -vn {}\".format(input_name, output) \n",
    "    return os.popen(cmd)\n",
    "\n",
    "def main():\n",
    "    input_directory = 'data/videos'\n",
    "    output_directory = 'data/audios'\n",
    "    createDirectory(output_directory)\n",
    "    files = glob.glob(input_directory + '/*.mp4')\n",
    "    for file_name in files:\n",
    "        convert_mp4_to_avi(file_name, output_directory)\n",
    "        print('convert mp4 to wav :', file_name)\n",
    "\n",
    "if __name__ == \"__main__\":\n",
    "   main()\n"
   ]
  },
  {
   "cell_type": "code",
   "execution_count": 1,
   "metadata": {},
   "outputs": [
    {
     "name": "stdout",
     "output_type": "stream",
     "text": [
      "/opt/ml/input/code/project\n"
     ]
    }
   ],
   "source": [
    "%pwd\n",
    "%cd ../.."
   ]
  },
  {
   "cell_type": "code",
   "execution_count": 2,
   "metadata": {},
   "outputs": [
    {
     "name": "stdout",
     "output_type": "stream",
     "text": [
      "[saved list]\n",
      "data/audio_features/Bad.Boys.1995__#01-33-51_01-34-37_label_B2-0-0.npy\n"
     ]
    }
   ],
   "source": [
    "from torchvggish.torchvggish import vggish\n",
    "import numpy as np\n",
    "import glob\n",
    "\n",
    "# 변환할 오디오 파일 위치 지정\n",
    "audio_path = 'data/audios'\n",
    "files = glob.glob(audio_path + '/*.wav')\n",
    "file_name_list = os.listdir(audio_path)\n",
    "\n",
    "# 오디오 피처 저장할 위치 지정\n",
    "feature_save_path = 'data/audio_features'\n",
    "\n",
    "# Initialise model and download weights\n",
    "model_urls = {\n",
    "    'vggish': 'https://github.com/harritaylor/torchvggish/'\n",
    "    'releases/download/v0.1/vggish-10086976.pth',\n",
    "    'pca': 'https://github.com/harritaylor/torchvggish/'\n",
    "    'releases/download/v0.1/vggish_pca_params-970ea276.pth'\n",
    "    }\n",
    "embedding_model = vggish.VGGish(urls=model_urls, postprocess=False)\n",
    "embedding_model.eval()\n",
    "\n",
    "print(\"[saved list]\")\n",
    "saved_list = []\n",
    "for audio, audio_name in zip(files, file_name_list):\n",
    "    embeddings = embedding_model.forward(audio)\n",
    "    np.save(os.path.join(feature_save_path, audio_name[:-4]),embeddings.detach().cpu().numpy())\n",
    "    print(os.path.join(feature_save_path, audio_name[:-4])+\".npy\")\n",
    "    saved_list.append(os.path.join(feature_save_path, audio_name[:-4])+\".npy\")"
   ]
  },
  {
   "cell_type": "code",
   "execution_count": 3,
   "metadata": {},
   "outputs": [
    {
     "name": "stdout",
     "output_type": "stream",
     "text": [
      "Bad.Boys.1995__#01-33-51_01-34-37_label_B2-0-0.npy - (69, 128)\n"
     ]
    }
   ],
   "source": [
    "for sample in saved_list:\n",
    "    data = np.load(sample)\n",
    "    print(f'{sample[len(feature_save_path)+1:]} - {data.shape}')"
   ]
  },
  {
   "cell_type": "code",
   "execution_count": null,
   "metadata": {},
   "outputs": [],
   "source": []
  }
 ],
 "metadata": {
  "interpreter": {
   "hash": "d4d1e4263499bec80672ea0156c357c1ee493ec2b1c70f0acce89fc37c4a6abe"
  },
  "kernelspec": {
   "display_name": "Python 3.8.5 ('base')",
   "language": "python",
   "name": "python3"
  },
  "language_info": {
   "codemirror_mode": {
    "name": "ipython",
    "version": 3
   },
   "file_extension": ".py",
   "mimetype": "text/x-python",
   "name": "python",
   "nbconvert_exporter": "python",
   "pygments_lexer": "ipython3",
   "version": "3.8.5"
  },
  "orig_nbformat": 4
 },
 "nbformat": 4,
 "nbformat_minor": 2
}
